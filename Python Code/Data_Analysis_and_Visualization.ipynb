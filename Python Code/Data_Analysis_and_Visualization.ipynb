{
  "nbformat": 4,
  "nbformat_minor": 0,
  "metadata": {
    "colab": {
      "name": "Data_Analysis_and_Visualization.ipynb",
      "provenance": []
    },
    "kernelspec": {
      "name": "python3",
      "display_name": "Python 3"
    },
    "language_info": {
      "name": "python"
    }
  },
  "cells": [
    {
      "cell_type": "markdown",
      "metadata": {
        "id": "1-vmB_jGSTt6"
      },
      "source": [
        "# Data Analysis and Visualization"
      ]
    },
    {
      "cell_type": "markdown",
      "metadata": {
        "id": "BszdubftfbCW"
      },
      "source": [
        "## Setup\n",
        "\n",
        "- Import libraries\n",
        "- Mount drive\n",
        "- Import data analysis class\n",
        "- Read in cleaned data\n"
      ]
    },
    {
      "cell_type": "code",
      "metadata": {
        "id": "68anbcnlSSwC"
      },
      "source": [
        "import pandas as pd\n",
        "import numpy as np\n",
        "import matplotlib.pyplot as plt\n",
        "import seaborn as sns\n",
        "import random"
      ],
      "execution_count": null,
      "outputs": []
    },
    {
      "cell_type": "code",
      "metadata": {
        "colab": {
          "base_uri": "https://localhost:8080/"
        },
        "id": "dB96MRFPSZLd",
        "outputId": "554abd68-35a3-4b89-f252-b0e56ff57478"
      },
      "source": [
        "# Mount drive\n",
        "from google.colab import drive\n",
        "drive.mount('/content/drive')"
      ],
      "execution_count": null,
      "outputs": [
        {
          "output_type": "stream",
          "name": "stdout",
          "text": [
            "Mounted at /content/drive\n"
          ]
        }
      ]
    },
    {
      "cell_type": "code",
      "metadata": {
        "id": "pW-eaSM6SKrC"
      },
      "source": [
        "# Import class with functions for data analysis\n",
        "import sys\n",
        "sys.path.append(\"/content/drive/My Drive/fe-eda/Python Code/\")\n",
        "\n",
        "from County_Analysis_Class import *\n"
      ],
      "execution_count": null,
      "outputs": []
    },
    {
      "cell_type": "code",
      "metadata": {
        "id": "69sGHdJMSZRs"
      },
      "source": [
        "# Read in cleaned data\n",
        "# Define directory where cleaned data was saved\n",
        "data_dir =  \"/content/drive/My Drive/fe-eda/Data_Cleaned/\"\n",
        "\n",
        "df_county = pd.read_csv(data_dir + 'County_Level_Data.csv')"
      ],
      "execution_count": null,
      "outputs": []
    },
    {
      "cell_type": "code",
      "metadata": {
        "id": "ELSdoTDDTBR_"
      },
      "source": [
        "# Style for plots\n",
        "plt.style.use('ggplot')"
      ],
      "execution_count": null,
      "outputs": []
    },
    {
      "cell_type": "markdown",
      "metadata": {
        "id": "R-yMLqhbSgyx"
      },
      "source": [
        "## Food desert visualizations"
      ]
    },
    {
      "cell_type": "code",
      "metadata": {
        "id": "QkgZJb2PSZTy"
      },
      "source": [
        "# Create categroical column for metro vs non-metro\n",
        "df_county['Metro'] = np.where(df_county['METRO13']==0, \"Non-metro\", \"Metro\")"
      ],
      "execution_count": null,
      "outputs": []
    },
    {
      "cell_type": "markdown",
      "source": [
        "Population"
      ],
      "metadata": {
        "id": "t9TtklkHBRkB"
      }
    },
    {
      "cell_type": "code",
      "metadata": {
        "id": "GoC_O29aSmox"
      },
      "source": [
        "ax = sns.scatterplot(data=df_county, x='2010_Census_Population', y='PCT_LACCESS_LOWI15', alpha = 0.2)\n",
        "ax.set(xscale='log')\n",
        "plt.xlabel(\"Census Population (log)\")\n",
        "plt.ylabel(\"Percent with Low Income and Low Access\")\n",
        "plt.title(\"Populations versus Food Access\")\n",
        "# Counties with lower populations tend to have higher percent with low income and low access (i.e. food deserts)"
      ],
      "execution_count": null,
      "outputs": []
    },
    {
      "cell_type": "markdown",
      "source": [
        "Metro"
      ],
      "metadata": {
        "id": "KWjFcbtUBYOE"
      }
    },
    {
      "cell_type": "code",
      "metadata": {
        "id": "XCUf3zfvSmky"
      },
      "source": [
        "ax = sns.scatterplot(data=df_county, x='2010_Census_Population', y='PCT_LACCESS_LOWI15', hue='Metro', alpha = 0.2)\n",
        "ax.set(xscale='log')\n",
        "plt.xlabel(\"Census Population (log)\")\n",
        "plt.ylabel(\"Percent with Low Income and Low Access\")\n",
        "plt.title(\"Populations versus Food Access by Metro\")\n",
        "# Low population and food deserts tend to be in non-metro ares"
      ],
      "execution_count": null,
      "outputs": []
    },
    {
      "cell_type": "code",
      "metadata": {
        "id": "J-CPy-WeSmiA"
      },
      "source": [
        "sns.boxplot(data=df_county,x=\"Metro\",y=\"PCT_LACCESS_LOWI15\")\n",
        "# Confirms analysis before that non-metro more likely to be food deserts"
      ],
      "execution_count": null,
      "outputs": []
    },
    {
      "cell_type": "code",
      "metadata": {
        "id": "Y8JIYGVASmfi"
      },
      "source": [
        "sns.boxplot(data=df_county,x=\"Metro\",y=\"PCT_LACCESS_LOWI15\",showfliers=False)\n",
        "# this version removes outliers to more clearly see the difference"
      ],
      "execution_count": null,
      "outputs": []
    },
    {
      "cell_type": "markdown",
      "source": [
        "Region"
      ],
      "metadata": {
        "id": "Z3Wia759Bbxs"
      }
    },
    {
      "cell_type": "code",
      "metadata": {
        "id": "6-Ilrd1JSsoA"
      },
      "source": [
        "# By region\n",
        "# Table with mappings from state to region\n",
        "df_region = pd.read_csv(data_dir + 'State and Region.csv')"
      ],
      "execution_count": null,
      "outputs": []
    },
    {
      "cell_type": "code",
      "metadata": {
        "id": "_6F40OdTSsjT"
      },
      "source": [
        "# Join dataframes to get region categories\n",
        "df_county = pd.merge(df_county, df_region, how='inner', on = 'State')"
      ],
      "execution_count": null,
      "outputs": []
    },
    {
      "cell_type": "code",
      "metadata": {
        "id": "LbnuM6F2SscE"
      },
      "source": [
        "# Create dataframe for each region\n",
        "df_west = df_county[df_county['Region']=='West']\n",
        "df_east = df_county[df_county['Region']=='Northeast']\n",
        "df_midwest = df_county[df_county['Region']=='Midwest']\n",
        "df_south = df_county[df_county['Region']=='South']"
      ],
      "execution_count": null,
      "outputs": []
    },
    {
      "cell_type": "code",
      "metadata": {
        "id": "OYRO9eKcVsvz"
      },
      "source": [
        "grid = sns.FacetGrid(df_county, col='Region')\n",
        "grid.map(sns.boxplot, 'Metro', 'PCT_LACCESS_LOWI15', showfliers=False)"
      ],
      "execution_count": null,
      "outputs": []
    },
    {
      "cell_type": "code",
      "metadata": {
        "id": "ge57GeidWTVx"
      },
      "source": [
        "ax = sns.scatterplot(data=df_county, x='2010_Census_Population', y='PCT_LACCESS_LOWI15', hue='Region', alpha = 0.2)\n",
        "ax.set(xscale='log')\n",
        "plt.xlabel(\"Census Population (log)\")\n",
        "plt.ylabel(\"Percent with Low Income and Low Access\")\n",
        "plt.title(\"Populations versus Food Access by Region\")\n"
      ],
      "execution_count": null,
      "outputs": []
    },
    {
      "cell_type": "code",
      "metadata": {
        "id": "jXZi60vPXE7O"
      },
      "source": [
        "sns.boxplot(data=df_county,x=\"Region\",y=\"PCT_LACCESS_LOWI15\",showfliers=False)\n"
      ],
      "execution_count": null,
      "outputs": []
    },
    {
      "cell_type": "markdown",
      "metadata": {
        "id": "6CSZ2DKZXRQa"
      },
      "source": [
        "Ethnicity"
      ]
    },
    {
      "cell_type": "code",
      "metadata": {
        "id": "xjCcW42LXiIX"
      },
      "source": [
        "df_county[\"BlackG\"] = np.where(df_county[\"PCT_NHBLACK10\"]<5, \"Less than 5%\", \n",
        "                               np.where(df_county[\"PCT_NHBLACK10\"]<10, \"5 to 10%\",\n",
        "                                        np.where(df_county[\"PCT_NHBLACK10\"]<20, \"10 to 20%\",\n",
        "                                                 \"Over 20%\")\n",
        "                                        )\n",
        "                              )"
      ],
      "execution_count": null,
      "outputs": []
    },
    {
      "cell_type": "code",
      "metadata": {
        "id": "ovqnW4gDZhJE"
      },
      "source": [
        "df_county[\"HispG\"] = np.where(df_county[\"PCT_HISP10\"]<5, \"Less than 5%\", \n",
        "                               np.where(df_county[\"PCT_HISP10\"]<10, \"5 to 10%\",\n",
        "                                        np.where(df_county[\"PCT_HISP10\"]<20, \"10 to 20%\",\n",
        "                                                 \"Over 20%\")\n",
        "                                        )\n",
        "                              )"
      ],
      "execution_count": null,
      "outputs": []
    },
    {
      "cell_type": "code",
      "metadata": {
        "id": "5m8z8PpXZ2LZ"
      },
      "source": [
        "df_county[\"AsianG\"] = np.where(df_county[\"PCT_NHASIAN10\"]<5, \"Less than 5%\", \n",
        "                               np.where(df_county[\"PCT_NHASIAN10\"]<10, \"5 to 10%\",\n",
        "                                        np.where(df_county[\"PCT_NHASIAN10\"]<20, \"10 to 20%\",\n",
        "                                                 \"Over 20%\")\n",
        "                                        )\n",
        "                              )"
      ],
      "execution_count": null,
      "outputs": []
    },
    {
      "cell_type": "code",
      "metadata": {
        "id": "CNoFoFYfX-pV"
      },
      "source": [
        "box = sns.factorplot(x='BlackG', y='PCT_LACCESS_LOWI15', kind='box', \n",
        "               data=df_county,showfliers=False).set(        \n",
        "    xlabel='Percentage of Black Population', \n",
        "    ylabel='Percent Low Access and Low Income')                     \n",
        "                \n",
        "plt.title(\"Boxplots of Percent Low Access and Low Income by Percentage of Black Population\")\n",
        "plt.xticks(rotation=45)"
      ],
      "execution_count": null,
      "outputs": []
    },
    {
      "cell_type": "code",
      "metadata": {
        "id": "RheGTe11YC7s"
      },
      "source": [
        "box = sns.factorplot(x='HispG', y='PCT_LACCESS_LOWI15', kind='box', \n",
        "               data=df_county,showfliers=False).set(        \n",
        "    xlabel='Percentage of Hispanic Population', \n",
        "    ylabel='Percent Low Access and Low Income')                     \n",
        "                \n",
        "plt.title(\"Boxplots of Percent Low Access and Low Income by Percentage of Hispanic Population\")\n",
        "plt.xticks(rotation=45)"
      ],
      "execution_count": null,
      "outputs": []
    },
    {
      "cell_type": "code",
      "metadata": {
        "id": "TNyVSKi6ZxVl"
      },
      "source": [
        "box = sns.factorplot(x='AsianG', y='PCT_LACCESS_LOWI15', kind='box', \n",
        "               data=df_county,showfliers=False).set(        \n",
        "    xlabel='Percentage of Asian Population', \n",
        "    ylabel='Percent Low Access and Low Income')                     \n",
        "                \n",
        "plt.title(\"Boxplots of Percent Low Access and Low Income by Percentage of Asian Population\")\n",
        "plt.xticks(rotation=45)"
      ],
      "execution_count": null,
      "outputs": []
    },
    {
      "cell_type": "markdown",
      "metadata": {
        "id": "5avqwWKFaDmY"
      },
      "source": [
        "Obsesity and diabetes"
      ]
    },
    {
      "cell_type": "code",
      "metadata": {
        "id": "lXeZI4pzaWGM"
      },
      "source": [
        "# Define food deserts as over 30%\n",
        "df_county['Food_Desert'] = np.where(df_county['PCT_LACCESS_POP15']>30, \"Food Desert\", \"Not a Food Desert\")"
      ],
      "execution_count": null,
      "outputs": []
    },
    {
      "cell_type": "code",
      "metadata": {
        "id": "yBMbc_h3bbVU"
      },
      "source": [
        "ax = sns.scatterplot(data=df_county, x='PCT_LACCESS_POP15', y='PCT_DIABETES_ADULTS13', alpha = 0.2)"
      ],
      "execution_count": null,
      "outputs": []
    },
    {
      "cell_type": "code",
      "metadata": {
        "id": "fg_jpxA6aCVH"
      },
      "source": [
        "# Box plot diabetes food desert vs not\n",
        "sns.boxplot(data=df_county,x=\"Food_Desert\",y=\"PCT_DIABETES_ADULTS13\",showfliers=False)"
      ],
      "execution_count": null,
      "outputs": []
    },
    {
      "cell_type": "code",
      "metadata": {
        "id": "2gzcl92_a796"
      },
      "source": [
        "# Box plot obesity food desert vs not (but obesity is state level...)\n",
        "sns.boxplot(data=df_county,x=\"Food_Desert\",y=\"PCT_OBESE_ADULTS17\",showfliers=False)"
      ],
      "execution_count": null,
      "outputs": []
    },
    {
      "cell_type": "markdown",
      "metadata": {
        "id": "VkxMymd0ctI1"
      },
      "source": [
        "## Analysis of a Single State\n",
        "\n",
        "Showcase functionality of analysis class by analyzing a single state (in this example, NY)\n",
        "1. Filter data down to selected state\n",
        "2. Remove columns/rows with large % missing values\n",
        "3. Find and keep only the most recent data points (i.e. keep LACCESS_POP15 and drop LACCESS_POP10)\n",
        "4. Find \"hidden\" state level columns (columns that don't vary within a state) and drop them\n",
        "5. Select target variable of interest (for correlation calculations and visualizations)\n",
        "6. Calculate correlations between variable of interest and all others\n",
        "7. Create scatterplots for variable of interest and a few from correlation analysis\n"
      ]
    },
    {
      "cell_type": "markdown",
      "metadata": {
        "id": "1OZLSKDAi1wt"
      },
      "source": [
        "**Motivation:** For many of the variables there was so much variability and noise in the data that it was difficult to visualize relationships between variables of interest. In addition, we thought it would be useful for certain types of analysis to be able to dig deeper into the counties in a single state."
      ]
    },
    {
      "cell_type": "markdown",
      "metadata": {
        "id": "fkp4Wt8xi7Hw"
      },
      "source": [
        "**Example:** For the purpose of this example we’ve chosen New York, but we’ve built in the functionality to make this process repeatable for the analysis of any state. We’ve chosen New York for this example because it is a pretty large state and also had the largest value for food insecurity in this dataset. "
      ]
    },
    {
      "cell_type": "code",
      "metadata": {
        "id": "D6pHnJltUtUY"
      },
      "source": [
        "# Create new instance of analysis class\n",
        "ny_analysis = countyAnalysis(df_county) "
      ],
      "execution_count": null,
      "outputs": []
    },
    {
      "cell_type": "code",
      "metadata": {
        "id": "yHnSGkTAdz-t"
      },
      "source": [
        "# Filter to NY\n",
        "ny_analysis.select_state('NY')"
      ],
      "execution_count": null,
      "outputs": []
    },
    {
      "cell_type": "code",
      "metadata": {
        "colab": {
          "base_uri": "https://localhost:8080/"
        },
        "id": "AnWRy9zVU9Bt",
        "outputId": "23efab57-eec0-4084-a8de-de3d68177c80"
      },
      "source": [
        "# Remove any columns with a high % missing\n",
        "ny_analysis.remove_missing_threshold_cols(threshold = 0.3)\n",
        "# Same for rows\n",
        "ny_analysis.remove_missing_threshold_rows(threshold = 0.3)"
      ],
      "execution_count": null,
      "outputs": [
        {
          "output_type": "stream",
          "name": "stdout",
          "text": [
            "Removing columns with greater than 30.0% missing\n",
            "Removing rows (counties) with greater than 30.0% missing\n"
          ]
        }
      ]
    },
    {
      "cell_type": "code",
      "metadata": {
        "id": "ae_59WftVDut"
      },
      "source": [
        "# Find and keep only the most recent column for matching ones \n",
        "# (i.e. keep LACCESS_POP15 and drop LACCESS_POP10)\n",
        "ny_analysis.find_most_recent_data(drop = True)"
      ],
      "execution_count": null,
      "outputs": []
    },
    {
      "cell_type": "code",
      "metadata": {
        "id": "w2ssGUwiVMie"
      },
      "source": [
        "# Find columns that don't vary within a state and drop them\n",
        "ny_analysis.find_zero_variance_state_cols(drop = True)"
      ],
      "execution_count": null,
      "outputs": []
    },
    {
      "cell_type": "code",
      "metadata": {
        "id": "F_hGweWididX"
      },
      "source": [
        "# Prompt user to select target variable of interest (i.e. for correlation calculations)\n",
        "# ny_analysis.select_target_var() # PCT_DIABETES_ADULTS13\n",
        "ny_analysis.target_var = 'PCT_DIABETES_ADULTS13' "
      ],
      "execution_count": null,
      "outputs": []
    },
    {
      "cell_type": "code",
      "metadata": {
        "colab": {
          "base_uri": "https://localhost:8080/"
        },
        "id": "C1dWv_dyduxJ",
        "outputId": "61516a2e-7a91-4661-cc0c-ffdb0dc8753f"
      },
      "source": [
        "# Calculate correlations between variable of interest and all others\n",
        "# By default reutrns top 10 positve and top 10 negative, but can adjust\n",
        "ny_analysis.calculation_correlations_with_variable(num_pos_corr=5, num_neg_corr=5)"
      ],
      "execution_count": null,
      "outputs": [
        {
          "output_type": "stream",
          "name": "stdout",
          "text": [
            "Please select a variable of interest: \n",
            "PCT_DIABETES_ADULTS13\n",
            "Top 5 largest (positives) correlations with PCT_DIABETES_ADULTS13: \n",
            "CHILDPOVRATE15            0.507342\n",
            "SNAPSPTH17                0.479750\n",
            "PCT_FREE_LUNCH15          0.474594\n",
            "PCH_VEG_ACRESPTH_07_12    0.464768\n",
            "WICSPTH16                 0.450395\n",
            "dtype: float64\n",
            "Top 5 smallest (negative) correlations PCT_DIABETES_ADULTS13: \n",
            "RECFACPTH16        -0.554978\n",
            "MEDHHINC15         -0.486162\n",
            "RECFAC16           -0.385710\n",
            "FFRPTH16           -0.358336\n",
            "FMRKT_ANMLPROD18   -0.295289\n",
            "dtype: float64\n"
          ]
        }
      ]
    },
    {
      "cell_type": "markdown",
      "metadata": {
        "id": "gMKtABTUjK9r"
      },
      "source": [
        "Using the correlations with diabetes as a guide, we’ve visualized the relationship between different variables and diabetes in New York. "
      ]
    },
    {
      "cell_type": "code",
      "metadata": {
        "colab": {
          "base_uri": "https://localhost:8080/",
          "height": 316
        },
        "id": "kossLAjtd4ld",
        "outputId": "f1f67722-e023-47b4-97ee-00c502b97ecc"
      },
      "source": [
        "# Create scatterplot for variables of interest and another\n",
        "# Chose second variable based on correlations\n",
        "sns.scatterplot(data=ny_analysis.df_county, x='CHILDPOVRATE15', y='PCT_DIABETES_ADULTS13', size='2010_Census_Population', hue='METRO13')\n",
        "plt.legend(bbox_to_anchor=(1.05, 1), loc=2, borderaxespad=0.) # Put the legend out of the figure\n",
        "plt.xlabel(\"Child Poverty Rate (2015)\")\n",
        "plt.ylabel(\"Adult Diabetes Rate (2013)\")\n",
        "plt.title(\"Relationship Between Poverty and Diabetes\")\n"
      ],
      "execution_count": null,
      "outputs": [
        {
          "output_type": "execute_result",
          "data": {
            "text/plain": [
              "Text(0.5, 1.0, 'Relationship Between Poverty and Diabetes')"
            ]
          },
          "metadata": {},
          "execution_count": 14
        },
        {
          "output_type": "display_data",
          "data": {
            "image/png": "[encoded data removed]",
            "text/plain": [
              "<Figure size 432x288 with 1 Axes>"
            ]
          },
          "metadata": {}
        }
      ]
    },
    {
      "cell_type": "code",
      "metadata": {
        "colab": {
          "base_uri": "https://localhost:8080/",
          "height": 299
        },
        "id": "oh23_VLRiiFc",
        "outputId": "6719ff5c-ec59-4708-b487-010ec39097fc"
      },
      "source": [
        "# Create scatterplot for variables of interest and another\n",
        "# Chose second variable based on correlations\n",
        "sns.scatterplot(data=ny_analysis.df_county, x='RECFACPTH16', y='PCT_DIABETES_ADULTS13', size='2010_Census_Population', hue='METRO13')\n",
        "plt.legend(bbox_to_anchor=(1.05, 1), loc=2, borderaxespad=0.)\n",
        "\n",
        "# More recreational fitness facilities associated with lower diabetes rates"
      ],
      "execution_count": null,
      "outputs": [
        {
          "output_type": "execute_result",
          "data": {
            "text/plain": [
              "<matplotlib.legend.Legend at 0x7f21632977d0>"
            ]
          },
          "metadata": {},
          "execution_count": 15
        },
        {
          "output_type": "display_data",
          "data": {
            "image/png": "[encoded data removed]",
            "text/plain": [
              "<Figure size 432x288 with 1 Axes>"
            ]
          },
          "metadata": {}
        }
      ]
    },
    {
      "cell_type": "code",
      "metadata": {
        "colab": {
          "base_uri": "https://localhost:8080/",
          "height": 299
        },
        "id": "yhQfnQw4w8oS",
        "outputId": "6b8ef077-9580-486f-be8b-51638a6574d4"
      },
      "source": [
        "# Create scatterplot for variables of interest and another\n",
        "# Chose second variable based on correlations\n",
        "sns.scatterplot(data=ny_analysis.df_county, x='PCT_LACCESS_LOWI15', y='PCT_DIABETES_ADULTS13')\n",
        "\n",
        "# Not a very strong relationship between diabetetes and low access"
      ],
      "execution_count": null,
      "outputs": [
        {
          "output_type": "execute_result",
          "data": {
            "text/plain": [
              "<matplotlib.axes._subplots.AxesSubplot at 0x7f2162d72350>"
            ]
          },
          "metadata": {},
          "execution_count": 16
        },
        {
          "output_type": "display_data",
          "data": {
            "image/png": "[encoded data removed]",
            "text/plain": [
              "<Figure size 432x288 with 1 Axes>"
            ]
          },
          "metadata": {}
        }
      ]
    },
    {
      "cell_type": "code",
      "metadata": {
        "id": "W5FFBZR-aP-1",
        "colab": {
          "base_uri": "https://localhost:8080/"
        },
        "outputId": "4bbbdc69-7074-40dc-b97c-dd195a2e2df3"
      },
      "source": [
        "# State level variable \n",
        "# Household food insecurity (%, three-year average), 2015-17*\n",
        "# FOODINSEC_15_17\n",
        "df_state_FOODINSEC_15_17 = df_county.groupby('State')['FOODINSEC_15_17'].mean() # Mean, but same value for all counties in state\n",
        "df_state_FOODINSEC_15_17.sort_values(ascending=False).head(10)"
      ],
      "execution_count": null,
      "outputs": [
        {
          "output_type": "execute_result",
          "data": {
            "text/plain": [
              "State\n",
              "NY    17.9\n",
              "AZ    17.4\n",
              "LA    17.3\n",
              "MO    17.2\n",
              "AL    16.3\n",
              "OK    15.0\n",
              "WI    14.9\n",
              "KY    14.7\n",
              "NE    14.4\n",
              "MA    14.4\n",
              "Name: FOODINSEC_15_17, dtype: float64"
            ]
          },
          "metadata": {},
          "execution_count": 6
        }
      ]
    },
    {
      "cell_type": "markdown",
      "metadata": {
        "id": "UE7gj_hLxw6J"
      },
      "source": [
        "## Persistent Poverty County Analysis\n",
        "\n",
        "Analyze differences between persistent-poverty counties and other counties. Differences by region? Race? Which variables show the largest difference?\n",
        "\n",
        "Similar setup to other analysis:\n",
        "- Create instance of county analysis class\n",
        "- Remove columns and rows with high percent missing\n",
        "- Find and keep only the most recent data points (i.e. keep LACCESS_POP15 and drop LACCESS_POP10)\n",
        "- Find \"hidden\" state level columns (columns that don't vary within a state) and drop them\n",
        "\n",
        "Analysis:\n",
        "- Pie chart showing what percent of counties are categorized as persistent-poverty\n",
        "- Bar graph of percent of counties are categorized as persistent-poverty by region\n",
        "- Calculate averages of some variables in persistent-poverty versus other counties\n",
        "  - Demographic variables (poverty rate, metro, race/ethnicity)\n",
        "  - Health variables (diabetes rate, recreational/fitness facilities)\n",
        "  - Food access (low access, low income and low access, low access and no car)\n",
        "  - Store avaliability (grocery stores, convenience stores, fast food restaurants, full service restaurants)"
      ]
    },
    {
      "cell_type": "code",
      "metadata": {
        "id": "Zqd0Kc0uiiKs",
        "colab": {
          "base_uri": "https://localhost:8080/",
          "height": 166
        },
        "outputId": "d21a39ae-46df-4443-ca41-e898b44cc644"
      },
      "source": [
        "pov_persist = countyAnalysis(df_county)"
      ],
      "execution_count": null,
      "outputs": [
        {
          "output_type": "error",
          "ename": "NameError",
          "evalue": "ignored",
          "traceback": [
            "\u001b[0;31m---------------------------------------------------------------------------\u001b[0m",
            "\u001b[0;31mNameError\u001b[0m                                 Traceback (most recent call last)",
            "\u001b[0;32m<ipython-input-1-5cd52df290b6>\u001b[0m in \u001b[0;36m<module>\u001b[0;34m()\u001b[0m\n\u001b[0;32m----> 1\u001b[0;31m \u001b[0mpov_persist\u001b[0m \u001b[0;34m=\u001b[0m \u001b[0mcountyAnalysis\u001b[0m\u001b[0;34m(\u001b[0m\u001b[0mdf_county\u001b[0m\u001b[0;34m)\u001b[0m\u001b[0;34m\u001b[0m\u001b[0;34m\u001b[0m\u001b[0m\n\u001b[0m",
            "\u001b[0;31mNameError\u001b[0m: name 'countyAnalysis' is not defined"
          ]
        }
      ]
    },
    {
      "cell_type": "code",
      "metadata": {
        "id": "XCrNyf3syBur"
      },
      "source": [
        "# Remove any columns with a high % missing\n",
        "pov_persist.remove_missing_threshold_cols(threshold = 0.3)\n",
        "# Same for rows (counties)\n",
        "pov_persist.remove_missing_threshold_rows(threshold = 0.3)"
      ],
      "execution_count": null,
      "outputs": []
    },
    {
      "cell_type": "code",
      "metadata": {
        "id": "S9DWg4N-Y_U3"
      },
      "source": [
        "# Find and keep only the most recent column for matching ones \n",
        "# (i.e. keep LACCESS_POP15 and drop LACCESS_POP10)\n",
        "pov_persist.find_most_recent_data(drop = True)"
      ],
      "execution_count": null,
      "outputs": []
    },
    {
      "cell_type": "code",
      "metadata": {
        "id": "gQ3-jjrQZEDQ"
      },
      "source": [
        "# Find columns that don't vary within a state and drop them\n",
        "pov_persist.find_zero_variance_state_cols(drop = True)"
      ],
      "execution_count": null,
      "outputs": []
    },
    {
      "cell_type": "code",
      "metadata": {
        "id": "j8fVl07RyhGg"
      },
      "source": [
        "# Create labeled version of persistent poverty (labels instead of 0/1)\n",
        "pov_persist.labeled_categorical_cols()\n",
        "# pov_persist.df_county['Persistent_Poverty'] = np.where(pov_persist.df_county['PERPOV10'] == 1, \"Persistent-Poverty\", \"Other\")"
      ],
      "execution_count": null,
      "outputs": []
    },
    {
      "cell_type": "code",
      "metadata": {
        "id": "JBFsBfS-yBrx"
      },
      "source": [
        "# what percent of counties are poverty persistent?\n",
        "pov_persist.df_county.Persistent_Poverty.value_counts(normalize=True).plot.pie(autopct='%1.0f%%')\n",
        "plt.ylabel('')\n",
        "plt.title('Portion of Counties that are Persistent-Poverty')"
      ],
      "execution_count": null,
      "outputs": []
    },
    {
      "cell_type": "code",
      "metadata": {
        "id": "AL3xSuWk0ZHd"
      },
      "source": [
        "# Add region column\n",
        "pov_persist.append_region(data_dir)\n",
        "# pov_persist.df_county = pd.merge(pov_persist.df_county , df_region, how='inner', on = 'State')"
      ],
      "execution_count": null,
      "outputs": []
    },
    {
      "cell_type": "code",
      "metadata": {
        "id": "OtEM5qFpZ1GT"
      },
      "source": [
        "# Poverty-Persistency by region\n",
        "# Calculate percent of counties with poverty persistence in each region\n",
        "pov_by_region = pov_persist.average_by_category('Region', 'PERPOV10')\n",
        "\n",
        "# Plot\n",
        "sns.barplot(data=pov_by_region, x='Region', y='PERPOV10')\n",
        "plt.title('Persistent Poverty by Region')\n",
        "plt.xlabel('Region')\n",
        "plt.ylabel('Portion of Counties')"
      ],
      "execution_count": null,
      "outputs": []
    },
    {
      "cell_type": "code",
      "metadata": {
        "id": "jUQrdWuHyBk5"
      },
      "source": [
        "# Caclulate averages of columns of interest for persistent poverty vs other counties\n",
        "# Demographic columns\n",
        "demographic_cols = ['POVRATE15', 'METRO13', 'PCT_NHWHITE10', 'PCT_NHBLACK10', 'PCT_HISP10', 'PCT_NHASIAN10']\n",
        "demo_by_pov = pov_persist.average_by_category('Persistent_Poverty', demographic_cols)\n",
        "demo_by_pov\n",
        "\n",
        "# Nearly double the poverty rate, More non-metro, lower percentage of whites, higher black and hispanic, lower asian, slightly younger population"
      ],
      "execution_count": null,
      "outputs": []
    },
    {
      "cell_type": "code",
      "metadata": {
        "id": "BICZ7vwAc-v4"
      },
      "source": [
        "# Caclulate averages of columns of interest for persistent poverty vs other counties\n",
        "# Health columns\n",
        "health_cols = ['PCT_DIABETES_ADULTS13', 'RECFACPTH16']\n",
        "health_by_pov = pov_persist.average_by_category('Persistent_Poverty', health_cols)\n",
        "health_by_pov\n",
        "# Higher diabetes rates, fewer recreational facilities per 1000"
      ],
      "execution_count": null,
      "outputs": []
    },
    {
      "cell_type": "code",
      "metadata": {
        "id": "iaFks5wcyBc8"
      },
      "source": [
        "# Caclulate averages of columns of interest for persistent poverty vs other counties\n",
        "# Food access\n",
        "access_cols = ['PCT_LACCESS_POP15', 'PCT_LACCESS_HHNV15', 'PCT_LACCESS_LOWI15']\n",
        "access_by_pov = pov_persist.average_by_category('Persistent_Poverty', access_cols)\n",
        "access_by_pov\n",
        "# Slightly smaller percentage of population with low access to store\n",
        "# But much larger percentage that have low access and no car \n",
        "# Also larger percentage with low access and low income"
      ],
      "execution_count": null,
      "outputs": []
    },
    {
      "cell_type": "code",
      "metadata": {
        "id": "kYDNB3k9ccZR"
      },
      "source": [
        "# Caclulate averages of columns of interest for persistent poverty vs other counties\n",
        "# Here look at store avaliability columns\n",
        "store_cols = ['GROCPTH16', 'CONVSPTH16', 'FFRPTH16', 'FSRPTH16']\n",
        "store_by_pov = pov_persist.average_by_category('Persistent_Poverty', store_cols)\n",
        "store_by_pov\n",
        "# Similar grocery store avaliability, but higher convenience stores, similar or a bit lower for fast food, and much lower for full service restauants"
      ],
      "execution_count": null,
      "outputs": []
    },
    {
      "cell_type": "markdown",
      "metadata": {
        "id": "9HIUwzc8cl_1"
      },
      "source": [
        "some other plot options...."
      ]
    },
    {
      "cell_type": "code",
      "metadata": {
        "id": "dK0CwhTfc4hQ"
      },
      "source": [
        "sns.scatterplot(data=pov_persist.df_county, x='PCT_LACCESS_POP15', y='PCT_DIABETES_ADULTS13', hue='PERPOV10', alpha=0.2)\n"
      ],
      "execution_count": null,
      "outputs": []
    },
    {
      "cell_type": "code",
      "metadata": {
        "id": "fDRqBbzOhV3H"
      },
      "source": [
        "df_agg = pov_persist.df_county.groupby('PERPOV10').agg({'PCT_NHWHITE10': ['mean'], 'PCT_NHBLACK10': ['mean'], 'PCT_HISP10': ['mean'], 'PCT_NHASIAN10': ['mean'], 'PCT_NHNA10': ['mean'], 'PCT_NHPI10': ['mean']})\n",
        "df_agg.plot(figsize=(30,10), kind='bar', title=\"Population based on Race in 2010\", stacked=True).legend(bbox_to_anchor= (1.02, 1));"
      ],
      "execution_count": null,
      "outputs": []
    },
    {
      "cell_type": "code",
      "metadata": {
        "id": "dnwHNtp0hnsg"
      },
      "source": [
        "fig, (ax1,ax2,ax3,ax4) = plt.subplots(nrows=1,ncols=4)\n",
        "fig.set_size_inches(28,5)\n",
        "width = 0.4\n",
        "fig.subplots_adjust(wspace=1.0)\n",
        "df_agg_east = df_east.groupby('PERPOV10').agg({'PCT_NHWHITE10': ['mean'], 'PCT_NHBLACK10': ['mean'], 'PCT_HISP10': ['mean'], 'PCT_NHASIAN10': ['mean'], 'PCT_NHNA10': ['mean'], 'PCT_NHPI10': ['mean']})\n",
        "df_agg_east.plot(kind='bar', stacked=True, ax=ax1).legend(bbox_to_anchor= (1.02, 1));\n",
        "ax1.set_title(\"Population by races in Northeast\")\n",
        "df_agg_west = df_west.groupby('PERPOV10').agg({'PCT_NHWHITE10': ['mean'], 'PCT_NHBLACK10': ['mean'], 'PCT_HISP10': ['mean'], 'PCT_NHASIAN10': ['mean'], 'PCT_NHNA10': ['mean'], 'PCT_NHPI10': ['mean']})\n",
        "df_agg_west.plot(kind='bar', stacked=True, ax=ax2).legend(bbox_to_anchor= (1.02, 1));\n",
        "ax2.set_title(\"Population by races in West\")\n",
        "df_agg_midwest = df_midwest.groupby('PERPOV10').agg({'PCT_NHWHITE10': ['mean'], 'PCT_NHBLACK10': ['mean'], 'PCT_HISP10': ['mean'], 'PCT_NHASIAN10': ['mean'], 'PCT_NHNA10': ['mean'], 'PCT_NHPI10': ['mean']})\n",
        "df_agg_midwest.plot(kind='bar', stacked=True, ax=ax3).legend(bbox_to_anchor= (1.02, 1));\n",
        "ax3.set_title(\"Population by races in Midwest\")\n",
        "df_agg_south = df_south.groupby('PERPOV10').agg({'PCT_NHWHITE10': ['mean'], 'PCT_NHBLACK10': ['mean'], 'PCT_HISP10': ['mean'], 'PCT_NHASIAN10': ['mean'], 'PCT_NHNA10': ['mean'], 'PCT_NHPI10': ['mean']})\n",
        "df_agg_south.plot(kind='bar', stacked=True, ax=ax4).legend(bbox_to_anchor= (1.02, 1));\n",
        "ax4.set_title(\"Population by races in South\")\n",
        "plt.show()\n"
      ],
      "execution_count": null,
      "outputs": []
    }
  ]
}